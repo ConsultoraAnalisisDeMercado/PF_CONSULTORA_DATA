{
 "cells": [
  {
   "cell_type": "code",
   "execution_count": 1,
   "metadata": {},
   "outputs": [],
   "source": [
    "import pandas as pd\n",
    "from sklearn.model_selection import train_test_split\n",
    "from sklearn.neighbors import KNeighborsClassifier\n",
    "from sklearn.metrics import accuracy_score\n",
    "\n",
    "def ml_training():\n",
    "    \n",
    "    df_geodistancia = pd.read_csv(\"./ml/ml_hotcat_light.csv\")\n",
    "    # ---> Assigning data to the model variables\n",
    "    X = df_geodistancia[['distancia']]     \n",
    "    y = df_geodistancia['radio']          # ---> 1 for near, 0 for far\n",
    "\n",
    "    # ---> Setting data for training and test\n",
    "    X_train, X_test, y_train, y_test = train_test_split(X, y, test_size=0.3, random_state=42)\n",
    "    # ---> Training the KN Model\n",
    "\n",
    "    modelo = KNeighborsClassifier(n_neighbors=11)  # ---> Number of Neighbors\n",
    "    modelo.fit(X_train, y_train)\n",
    "\n",
    "    # ---> Prediction of the interest places in the test set\n",
    "    y_pred = modelo.predict(X_test)\n",
    "\n",
    "    # ---> Model precision\n",
    "    precision = accuracy_score(y_test, y_pred)\n",
    "    return precision\n"
   ]
  }
 ],
 "metadata": {
  "kernelspec": {
   "display_name": "Python 3",
   "language": "python",
   "name": "python3"
  },
  "language_info": {
   "codemirror_mode": {
    "name": "ipython",
    "version": 3
   },
   "file_extension": ".py",
   "mimetype": "text/x-python",
   "name": "python",
   "nbconvert_exporter": "python",
   "pygments_lexer": "ipython3",
   "version": "3.11.8"
  }
 },
 "nbformat": 4,
 "nbformat_minor": 2
}
